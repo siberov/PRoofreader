{
 "cells": [
  {
   "cell_type": "code",
   "execution_count": 12,
   "metadata": {},
   "outputs": [],
   "source": [
    "readme = \"\"\"# Intro\n",
    "Hello and welcum to this redme.md. I am furious\n",
    "\n",
    "## Statring strenght\n",
    "Very good programme by Bill Kuwos. I like it much\n",
    "\n",
    "```python\n",
    "import numpy as np\n",
    "import pandas as pd\n",
    "import matplotlib.pyplot as plt\n",
    "import seaborn as sns\n",
    "# hello world\n",
    "```\n",
    "\n",
    "## End strenght\n",
    "Github is a very good tool for version control. I like it much. Test text for testing.\n",
    "\"\"\""
   ]
  },
  {
   "cell_type": "code",
   "execution_count": 6,
   "metadata": {},
   "outputs": [
    {
     "data": {
      "text/plain": [
       "['',\n",
       " '# Intro',\n",
       " 'Hello and welcum to this redme.md.',\n",
       " '',\n",
       " '## Statring strenght',\n",
       " 'Very good programme by Bill Kuwos. I like it much',\n",
       " '',\n",
       " '```python',\n",
       " 'import numpy as np',\n",
       " 'import pandas as pd',\n",
       " 'import matplotlib.pyplot as plt',\n",
       " 'import seaborn as sns',\n",
       " '# hello world',\n",
       " '```',\n",
       " '',\n",
       " '## End strenght',\n",
       " 'Github is a very good tool for version control. I like it much. Test text for testing.']"
      ]
     },
     "execution_count": 6,
     "metadata": {},
     "output_type": "execute_result"
    }
   ],
   "source": [
    "ful_som_stryk = []\n",
    "for line in readme.splitlines():\n",
    "    ful_som_stryk.append(line)\n",
    "\n",
    "ful_som_stryk"
   ]
  },
  {
   "cell_type": "code",
   "execution_count": 14,
   "metadata": {},
   "outputs": [],
   "source": [
    "def preprocess(readme: str):\n",
    "        \"\"\"Preprocesses the README.md file to make it easier to parse.\n",
    "        Split the readme into paragraphs and treat the code blocks as paragraphs.\n",
    "        Save start and end line numbers for each paragraph.\n",
    "        \"\"\"\n",
    "        paragraphs = []\n",
    "        current_paragraph = \"\"\n",
    "        current_line = 0\n",
    "        current_paragraph_start = 0\n",
    "        for line in readme.splitlines():\n",
    "            current_line += 1\n",
    "            if line.startswith(\"#\"):\n",
    "                paragraphs.append(\n",
    "                        {\n",
    "                        \"start\": current_line,\n",
    "                        \"end\": current_line, \n",
    "                        \"text\": line\n",
    "                        }\n",
    "                    )\n",
    "            else:\n",
    "                # new paragraph\n",
    "                if current_paragraph == \"\":\n",
    "                    current_paragraph_start = current_line\n",
    "                    current_paragraph += line + \"\\n\"\n",
    "                # end of paragraph\n",
    "                elif line == \"\" and current_paragraph:\n",
    "                    paragraphs.append(\n",
    "                        {\n",
    "                            \"start\": current_paragraph_start, \n",
    "                            \"end\": current_line, \n",
    "                            \"text\": current_paragraph\n",
    "                            }\n",
    "                        )\n",
    "                    current_paragraph = \"\"\n",
    "                else:\n",
    "                    current_paragraph += line + \"\\n\"\n",
    "        # Edge case for last paragraph if it does not end in new line\n",
    "        if current_paragraph:\n",
    "            paragraphs.append(\n",
    "                    {\n",
    "                    \"start\": current_paragraph_start, \n",
    "                    \"end\": current_line, \n",
    "                    \"text\": current_paragraph\n",
    "                    }\n",
    "                )\n",
    "        return paragraphs\n",
    "\n"
   ]
  },
  {
   "cell_type": "code",
   "execution_count": 15,
   "metadata": {},
   "outputs": [
    {
     "data": {
      "text/plain": [
       "[{'start': 1, 'end': 1, 'text': '# Intro'},\n",
       " {'start': 2,\n",
       "  'end': 3,\n",
       "  'text': 'Hello and welcum to this redme.md. I am furious\\n'},\n",
       " {'start': 4, 'end': 4, 'text': '## Statring strenght'},\n",
       " {'start': 5,\n",
       "  'end': 6,\n",
       "  'text': 'Very good programme by Bill Kuwos. I like it much\\n'},\n",
       " {'start': 12, 'end': 12, 'text': '# hello world'},\n",
       " {'start': 7,\n",
       "  'end': 14,\n",
       "  'text': '```python\\nimport numpy as np\\nimport pandas as pd\\nimport matplotlib.pyplot as plt\\nimport seaborn as sns\\n```\\n'},\n",
       " {'start': 15, 'end': 15, 'text': '## End strenght'},\n",
       " {'start': 16,\n",
       "  'end': 16,\n",
       "  'text': 'Github is a very good tool for version control. I like it much. Test text for testing.\\n'}]"
      ]
     },
     "execution_count": 15,
     "metadata": {},
     "output_type": "execute_result"
    }
   ],
   "source": [
    "preprocess(readme)"
   ]
  },
  {
   "cell_type": "code",
   "execution_count": null,
   "metadata": {},
   "outputs": [],
   "source": []
  }
 ],
 "metadata": {
  "kernelspec": {
   "display_name": "Python 3.9.12 ('venv': venv)",
   "language": "python",
   "name": "python3"
  },
  "language_info": {
   "codemirror_mode": {
    "name": "ipython",
    "version": 3
   },
   "file_extension": ".py",
   "mimetype": "text/x-python",
   "name": "python",
   "nbconvert_exporter": "python",
   "pygments_lexer": "ipython3",
   "version": "3.9.12"
  },
  "orig_nbformat": 4,
  "vscode": {
   "interpreter": {
    "hash": "3508b5443e172228f91eb4f347a4fc8c88a886e80bf8c4a5c4b76d4724bb7fc1"
   }
  }
 },
 "nbformat": 4,
 "nbformat_minor": 2
}
